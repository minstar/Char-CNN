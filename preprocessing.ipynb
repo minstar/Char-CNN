{
 "cells": [
  {
   "cell_type": "code",
   "execution_count": 3,
   "metadata": {},
   "outputs": [],
   "source": [
    "from __future__ import print_function\n",
    "\n",
    "import collections\n",
    "import numpy as np\n",
    "import tensorflow as tf\n",
    "#import config as config"
   ]
  },
  {
   "cell_type": "code",
   "execution_count": 31,
   "metadata": {},
   "outputs": [],
   "source": [
    "#data_file = ['train', 'valid', 'test']\n",
    "data_file = ['train']\n",
    "data_path = './dataset/ptb/'"
   ]
  },
  {
   "cell_type": "code",
   "execution_count": 77,
   "metadata": {},
   "outputs": [],
   "source": [
    "char_vocab = Vocab()\n",
    "word_vocab = Vocab()\n",
    "\n",
    "word_vocab.new_token('<unk>')\n",
    "char_vocab.new_token('<|') # start of the word at index 0\n",
    "char_vocab.new_token('|>') # end of the word at index 1\n",
    "\n",
    "snt_char = collections.defaultdict(dict)\n",
    "snt_word = collections.defaultdict(dict)\n",
    "word_maxlen = 0\n",
    "new_list = list()\n",
    "for file in data_file:\n",
    "    \n",
    "    snt_char[file] = list()\n",
    "    snt_word[file] = list()\n",
    "    \n",
    "    with open(data_path + file + '.txt', 'r', encoding='utf-8') as f:\n",
    "        line = f.readlines()\n",
    "        for one_line in line:\n",
    "        \n",
    "            for word in one_line.split():\n",
    "                # word token into dictionary\n",
    "                snt_word[file].append(word_vocab.new_token(word))\n",
    "            \n",
    "                # character token into dictionary\n",
    "                with_char = '<|' + word + '|>'\n",
    "                snt_char[file].append([char_vocab.new_token(c) for c in with_char])\n",
    "            \n",
    "                # check word maxlen\n",
    "                if len(word) > word_maxlen:\n",
    "                    word_maxlen = len(word)\n"
   ]
  },
  {
   "cell_type": "code",
   "execution_count": 84,
   "metadata": {},
   "outputs": [
    {
     "data": {
      "text/plain": [
       "19"
      ]
     },
     "execution_count": 84,
     "metadata": {},
     "output_type": "execute_result"
    }
   ],
   "source": []
  },
  {
   "cell_type": "code",
   "execution_count": null,
   "metadata": {},
   "outputs": [],
   "source": []
  }
 ],
 "metadata": {
  "kernelspec": {
   "display_name": "Python 3",
   "language": "python",
   "name": "python3"
  },
  "language_info": {
   "codemirror_mode": {
    "name": "ipython",
    "version": 3
   },
   "file_extension": ".py",
   "mimetype": "text/x-python",
   "name": "python",
   "nbconvert_exporter": "python",
   "pygments_lexer": "ipython3",
   "version": "3.6.5"
  }
 },
 "nbformat": 4,
 "nbformat_minor": 2
}
